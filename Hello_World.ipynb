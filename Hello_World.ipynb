{
  "nbformat": 4,
  "nbformat_minor": 0,
  "metadata": {
    "colab": {
      "provenance": []
    },
    "kernelspec": {
      "name": "python3",
      "display_name": "Python 3"
    },
    "language_info": {
      "name": "python"
    }
  },
  "cells": [
    {
      "cell_type": "code",
      "execution_count": 2,
      "metadata": {
        "colab": {
          "base_uri": "https://localhost:8080/"
        },
        "id": "MfhlfHgwesy7",
        "outputId": "c6c30291-bbee-4e2e-e05d-8b3cde3a1742"
      },
      "outputs": [
        {
          "output_type": "stream",
          "name": "stdout",
          "text": [
            "TensorFlow version: 2.13.0\n"
          ]
        }
      ],
      "source": [
        "import tensorflow as tf\n",
        "print(\"TensorFlow version:\", tf.__version__)\n",
        "#imports the tensorflow package and prints its version"
      ]
    },
    {
      "cell_type": "code",
      "source": [
        "#load the mnist handwritten digit dataset\n",
        "mnist = tf.keras.datasets.mnist\n",
        "\n",
        "#x_train and y_train sets are used for training and fitting the model\n",
        "#x_test and y_test sets are used for testing the model\n",
        "(x_train, y_train), (x_test, y_test) = mnist.load_data()\n",
        "#the data set pixel values range from integers 0-255, dividing by 255 scales this down to a float between 0 and 1\n",
        "x_train, x_test = x_train / 255.0, x_test / 255.0"
      ],
      "metadata": {
        "colab": {
          "base_uri": "https://localhost:8080/"
        },
        "id": "Y4D-Sbo-hoom",
        "outputId": "344fdeea-ac4a-4297-f945-bb1cc077b6d2"
      },
      "execution_count": 3,
      "outputs": [
        {
          "output_type": "stream",
          "name": "stdout",
          "text": [
            "Downloading data from https://storage.googleapis.com/tensorflow/tf-keras-datasets/mnist.npz\n",
            "11490434/11490434 [==============================] - 0s 0us/step\n"
          ]
        }
      ]
    },
    {
      "cell_type": "code",
      "source": [
        "#the Sequential keras model is useful for stacking layers where each layer has 1 input tensor and 1 output tensor\n",
        "#Layers are functions with a known mathematical structure that can be reused and have trainable variables\n",
        "model = tf.keras.models.Sequential([\n",
        "  tf.keras.layers.Flatten(input_shape=(28, 28)),\n",
        "  #flatten layer flattens input into a 1-dimensional array ready for the next layer\n",
        "  #input shape = dimension of the input data (28, 28)\n",
        "  tf.keras.layers.Dense(128, activation='relu'),\n",
        "  #the dense layer that contains neurons that are all connected to every single neuron in the previous layer\n",
        "  #uses the ReLU activation function\n",
        "  tf.keras.layers.Dropout(0.2),\n",
        "  #the dropout layer reduces the overfitting off the network\n",
        "  tf.keras.layers.Dense(10)\n",
        "  #another dense layer\n",
        "])"
      ],
      "metadata": {
        "id": "kka5VIGgikSD"
      },
      "execution_count": 4,
      "outputs": []
    },
    {
      "cell_type": "code",
      "source": [
        "predictions = model(x_train[:1]).numpy()\n",
        "predictions"
      ],
      "metadata": {
        "colab": {
          "base_uri": "https://localhost:8080/"
        },
        "id": "ymC2UfC2iql8",
        "outputId": "05d69e40-fe7a-4c64-c7bc-36d78e99df26"
      },
      "execution_count": 5,
      "outputs": [
        {
          "output_type": "execute_result",
          "data": {
            "text/plain": [
              "array([[ 0.10185015, -0.04807346,  0.1216628 , -0.1105941 , -0.05741018,\n",
              "         0.73355234,  0.0734771 , -0.3177005 , -0.25964767, -0.10632889]],\n",
              "      dtype=float32)"
            ]
          },
          "metadata": {},
          "execution_count": 5
        }
      ]
    },
    {
      "cell_type": "code",
      "source": [
        "tf.nn.softmax(predictions).numpy()\n",
        "#softmax functions turns the logits into probabilities"
      ],
      "metadata": {
        "colab": {
          "base_uri": "https://localhost:8080/"
        },
        "id": "W3AuChKtjick",
        "outputId": "aa83b7a8-22a4-4a74-eca5-4f7c3d6ef23b"
      },
      "execution_count": 6,
      "outputs": [
        {
          "output_type": "execute_result",
          "data": {
            "text/plain": [
              "array([[0.1045912 , 0.09002935, 0.10668409, 0.084573  , 0.08919269,\n",
              "        0.1967161 , 0.10166533, 0.0687522 , 0.07286159, 0.0849345 ]],\n",
              "      dtype=float32)"
            ]
          },
          "metadata": {},
          "execution_count": 6
        }
      ]
    },
    {
      "cell_type": "code",
      "source": [
        "loss_fn = tf.keras.losses.SparseCategoricalCrossentropy(from_logits=True)\n",
        "#loss function\n",
        "#the loss function compares the predicted values and actual values, therefore it measures the accuracy of the model\n",
        "#cross entropy is used to measure how well the model performs"
      ],
      "metadata": {
        "id": "ODYPH1ROkBth"
      },
      "execution_count": 7,
      "outputs": []
    },
    {
      "cell_type": "code",
      "source": [
        "loss_fn(y_train[:1], predictions).numpy()"
      ],
      "metadata": {
        "id": "S0rOCvxQkkZY"
      },
      "execution_count": null,
      "outputs": []
    },
    {
      "cell_type": "code",
      "source": [
        "model.compile(optimizer='adam',\n",
        "              #the optimizer is the algorithm that ajusts the weights of the network to minimise the loss\n",
        "              #the adam model is a stochastic gradient descent method\n",
        "              #stochastic = having a random probability distribution or pattern that may be analysed but not predicted precisely\n",
        "              #gradient descent is a way to find optimal values for the paramiters of the network\n",
        "              loss=loss_fn,\n",
        "              metrics=['accuracy'])\n",
        "#compiles the model\n",
        "#compiling the model means defining the optimizer, loss function, and other metrics"
      ],
      "metadata": {
        "id": "b8dmbDPblDvN"
      },
      "execution_count": 8,
      "outputs": []
    },
    {
      "cell_type": "code",
      "source": [
        "model.fit(x_train, y_train, epochs=5)\n",
        "#model.fit adjusts parameters and reduces loss (training the model)"
      ],
      "metadata": {
        "colab": {
          "base_uri": "https://localhost:8080/"
        },
        "id": "WG0CWgw8m3jW",
        "outputId": "a0b99bcd-c050-4f90-e550-2e5765b1a76f"
      },
      "execution_count": 9,
      "outputs": [
        {
          "output_type": "stream",
          "name": "stdout",
          "text": [
            "Epoch 1/5\n",
            "1875/1875 [==============================] - 12s 6ms/step - loss: 0.2896 - accuracy: 0.9167\n",
            "Epoch 2/5\n",
            "1875/1875 [==============================] - 8s 4ms/step - loss: 0.1420 - accuracy: 0.9579\n",
            "Epoch 3/5\n",
            "1875/1875 [==============================] - 9s 5ms/step - loss: 0.1070 - accuracy: 0.9669\n",
            "Epoch 4/5\n",
            "1875/1875 [==============================] - 9s 5ms/step - loss: 0.0890 - accuracy: 0.9729\n",
            "Epoch 5/5\n",
            "1875/1875 [==============================] - 7s 4ms/step - loss: 0.0737 - accuracy: 0.9765\n"
          ]
        },
        {
          "output_type": "execute_result",
          "data": {
            "text/plain": [
              "<keras.src.callbacks.History at 0x78799ab22bc0>"
            ]
          },
          "metadata": {},
          "execution_count": 9
        }
      ]
    },
    {
      "cell_type": "code",
      "source": [
        "model.evaluate(x_test,  y_test, verbose=2)\n",
        "#checks the models performance\n",
        "#\"Returns the loss value & metrics values for the model in test mode.\""
      ],
      "metadata": {
        "colab": {
          "base_uri": "https://localhost:8080/"
        },
        "id": "mi0741flnOPI",
        "outputId": "ffb04c11-a465-4680-c964-f93916130bb8"
      },
      "execution_count": 10,
      "outputs": [
        {
          "output_type": "stream",
          "name": "stdout",
          "text": [
            "313/313 - 1s - loss: 0.0733 - accuracy: 0.9770 - 659ms/epoch - 2ms/step\n"
          ]
        },
        {
          "output_type": "execute_result",
          "data": {
            "text/plain": [
              "[0.07327789068222046, 0.9769999980926514]"
            ]
          },
          "metadata": {},
          "execution_count": 10
        }
      ]
    }
  ]
}